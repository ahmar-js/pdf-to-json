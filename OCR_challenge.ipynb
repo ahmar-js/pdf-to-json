{
 "cells": [
  {
   "cell_type": "code",
   "execution_count": 4,
   "metadata": {},
   "outputs": [],
   "source": [
    "import os, re, sys\n",
    "from pdf2image import convert_from_path\n",
    "from fpdf import FPDF\n",
    "\n",
    "from dotenv import find_dotenv, load_dotenv\n",
    "load_dotenv()\n",
    "\n",
    "os.environ[\"OPENAI_API_KEY\"] = os.getenv(\"OPENAI_API_KEY\")"
   ]
  },
  {
   "cell_type": "code",
   "execution_count": 5,
   "metadata": {},
   "outputs": [],
   "source": [
    "import boto3\n",
    "client = boto3.client('textract', region_name='us-east-1', aws_access_key_id=os.getenv(\"AWS_ACCESS_KEY_ID\"), aws_secret_access_key=os.getenv(\"AWS_SECRET_KEY\"))"
   ]
  },
  {
   "cell_type": "code",
   "execution_count": 7,
   "metadata": {},
   "outputs": [],
   "source": [
    "# Store Pdf with convert_from_path function\n",
    "images = convert_from_path('OCR-challenge/tough.pdf', poppler_path=r\"C:\\1-All-files\\RapidLabs\\pdftojson-new\\poopler\\Release-24.07.0-0\\poppler-24.07.0\\Library\\bin\")\n",
    " \n",
    "for i in range(len(images)):\n",
    "      # Save pages as images in the pdf\n",
    "    images[i].save('OCR-challenge/pdf2img/page'+ str(i) +'.jpg', 'JPEG')"
   ]
  },
  {
   "cell_type": "code",
   "execution_count": 9,
   "metadata": {},
   "outputs": [
    {
     "name": "stdout",
     "output_type": "stream",
     "text": [
      "-------------------- section_0_0.jpg 0\n",
      "-------------------- section_0_1.jpg 1\n",
      "-------------------- section_0_2.jpg 2\n",
      "-------------------- section_1_0.jpg 3\n",
      "-------------------- section_1_1.jpg 4\n",
      "-------------------- section_1_2.jpg 5\n",
      "-------------------- section_2_0.jpg 6\n",
      "-------------------- section_2_1.jpg 7\n",
      "-------------------- section_2_2.jpg 8\n",
      "-------------------- page0.txt 0\n",
      "-------------------- page1.txt 1\n",
      "-------------------- page2.txt 2\n",
      "-------------------- page3.txt 3\n",
      "-------------------- page4.txt 4\n",
      "-------------------- page5.txt 5\n",
      "-------------------- page6.txt 6\n",
      "-------------------- page7.txt 7\n",
      "-------------------- page8.txt 8\n",
      "-------------------- page9.txt 9\n",
      "-------------------- page10.txt 10\n",
      "-------------------- page11.txt 11\n",
      "-------------------- page12.txt 12\n",
      "-------------------- page13.txt 13\n",
      "-------------------- page14.txt 14\n",
      "-------------------- page15.txt 15\n",
      "-------------------- page16.txt 16\n"
     ]
    },
    {
     "data": {
      "text/plain": [
       "''"
      ]
     },
     "execution_count": 9,
     "metadata": {},
     "output_type": "execute_result"
    }
   ],
   "source": [
    "def sort_key(filename):\n",
    "    match = re.search(r'(\\d+)', filename)\n",
    "    return int(match.group(1)) if match else float('inf')\n",
    "\n",
    "file_list = os.listdir(\"OCR-challenge/new_cropped_images\")\n",
    "sorted_file_list = sorted(file_list, key=sort_key)\n",
    "\n",
    "for i, img in enumerate(sorted_file_list):\n",
    "    with open(f'OCR-challenge/new_cropped_images/{img}', 'rb') as image:\n",
    "        bytes_img = bytearray(image.read())\n",
    "    print(\"--------------------\", img, i)\n",
    "    response = client.detect_document_text(\n",
    "        Document={'Bytes': bytes_img}\n",
    "    )\n",
    "\n",
    "    text = \"\"\n",
    "    for item in response[\"Blocks\"]:\n",
    "        if item[\"BlockType\"] == \"LINE\":\n",
    "            text = text + \" \"+item[\"Text\"]\n",
    "\n",
    "    with open(f\"OCR-challenge/img2text/page{i}.txt\", \"w\") as text_file:\n",
    "        text_file.write(text)\n",
    "\n",
    "pdf = FPDF()\n",
    "\n",
    "text_list = os.listdir(\"OCR-challenge/img2text\")\n",
    "sorted_text_list = sorted(text_list, key=sort_key)\n",
    "\n",
    "for i, text in enumerate(sorted_text_list):\n",
    "    print(\"--------------------\", text, i)\n",
    "\n",
    "    # Add a page\n",
    "    pdf.add_page()\n",
    "    \n",
    "    # set style and size of font\n",
    "    # that you want in the pdf\n",
    "    pdf.set_font(\"Arial\", size = 8)\n",
    "    \n",
    "    # open the text file in read mode\n",
    "    f = open(f\"OCR-challenge/img2text/{text}\", \"r\", encoding=\"latin-1\")\n",
    "    \n",
    "    # insert the texts in pdf\n",
    "    for x in f:\n",
    "        pdf.cell(180, 5, txt = x, ln = 1, align = 'C')\n",
    "\n",
    "    f.close()\n",
    "# save the pdf with name .pdf\n",
    "pdf.output('OCR-challenge/text2pdf/new.pdf', \"F\")"
   ]
  },
  {
   "cell_type": "code",
   "execution_count": 10,
   "metadata": {},
   "outputs": [
    {
     "name": "stdout",
     "output_type": "stream",
     "text": [
      "-------------------- page0.txt 0\n",
      "-------------------- page1.txt 1\n",
      "-------------------- page2.txt 2\n",
      "-------------------- page3.txt 3\n",
      "-------------------- page4.txt 4\n",
      "-------------------- page5.txt 5\n",
      "-------------------- page6.txt 6\n",
      "-------------------- page7.txt 7\n",
      "-------------------- page8.txt 8\n",
      "-------------------- page9.txt 9\n",
      "-------------------- page10.txt 10\n",
      "-------------------- page11.txt 11\n",
      "-------------------- page12.txt 12\n",
      "-------------------- page13.txt 13\n",
      "-------------------- page14.txt 14\n",
      "-------------------- page15.txt 15\n",
      "-------------------- page16.txt 16\n"
     ]
    },
    {
     "data": {
      "text/plain": [
       "''"
      ]
     },
     "execution_count": 10,
     "metadata": {},
     "output_type": "execute_result"
    }
   ],
   "source": [
    "import textwrap\n",
    "\n",
    "max_width = 10\n",
    "\n",
    "for i, text in enumerate(sorted_text_list):\n",
    "    print(\"--------------------\", text, i)\n",
    "\n",
    "    # Add a page\n",
    "    pdf.add_page()\n",
    "    \n",
    "    # set style and size of font\n",
    "    # that you want in the pdf\n",
    "    pdf.set_font(\"Arial\", size = 8)\n",
    "    \n",
    "    # # open the text file in read mode\n",
    "    # f = open(f\"OCR-challenge/img2text/{text}\", \"r\", encoding=\"latin-1\")\n",
    "    \n",
    "    # # insert the texts in pdf\n",
    "    # for x in f:\n",
    "    #     pdf.cell(180, 5, txt = x, ln = 1, align = 'C')\n",
    "\n",
    "    # f.close()\n",
    "\n",
    "    # Open the text file in read mode\n",
    "    with open(f\"OCR-challenge/img2text/{text}\", \"r\", encoding=\"latin-1\") as f:\n",
    "        # Read the entire file content\n",
    "        file_content = f.read()\n",
    "        \n",
    "        # Wrap the text at the specified width\n",
    "        wrapped_text = textwrap.fill(file_content, width=max_width)\n",
    "        \n",
    "        # Insert the wrapped text into the PDF using MultiCell\n",
    "        pdf.multi_cell(0, 10, txt=wrapped_text, align='L')\n",
    "# save the pdf with name .pdf\n",
    "pdf.output('OCR-challenge/text2pdf-new/new.pdf', \"F\")"
   ]
  },
  {
   "cell_type": "code",
   "execution_count": 12,
   "metadata": {},
   "outputs": [
    {
     "name": "stdout",
     "output_type": "stream",
     "text": [
      "Image divided and sections saved successfully.\n"
     ]
    }
   ],
   "source": [
    "from PIL import Image\n",
    "\n",
    "# Open the image file\n",
    "image_path = f\"OCR-challenge/new_cropped_images/{sorted_file_list[0]}\"\n",
    "img = Image.open(image_path)\n",
    "\n",
    "# Define the number of sections (rows and columns) you want to divide the image into\n",
    "num_rows = 3\n",
    "num_cols = 3\n",
    "\n",
    "# Get the dimensions of the image\n",
    "img_width, img_height = img.size\n",
    "\n",
    "# Calculate the size of each section\n",
    "section_width = img_width // num_cols\n",
    "section_height = img_height // num_rows\n",
    "\n",
    "# Iterate over the rows and columns to crop and save each section\n",
    "for row in range(num_rows):\n",
    "    for col in range(num_cols):\n",
    "        # Define the box to crop (left, upper, right, lower)\n",
    "        left = col * section_width\n",
    "        upper = row * section_height\n",
    "        right = (col + 1) * section_width\n",
    "        lower = (row + 1) * section_height\n",
    "        box = (left, upper, right, lower)\n",
    "\n",
    "        # Crop the image\n",
    "        section = img.crop(box)\n",
    "\n",
    "        # Save the cropped section as a new image\n",
    "        section.save(f'OCR-challenge/new_cropped_images/section_{row}_{col}.jpg')\n",
    "\n",
    "print(\"Image divided and sections saved successfully.\")\n"
   ]
  },
  {
   "cell_type": "code",
   "execution_count": null,
   "metadata": {},
   "outputs": [],
   "source": []
  },
  {
   "cell_type": "code",
   "execution_count": null,
   "metadata": {},
   "outputs": [],
   "source": []
  },
  {
   "cell_type": "code",
   "execution_count": null,
   "metadata": {},
   "outputs": [],
   "source": []
  }
 ],
 "metadata": {
  "kernelspec": {
   "display_name": "pdftojson1",
   "language": "python",
   "name": "python3"
  },
  "language_info": {
   "codemirror_mode": {
    "name": "ipython",
    "version": 3
   },
   "file_extension": ".py",
   "mimetype": "text/x-python",
   "name": "python",
   "nbconvert_exporter": "python",
   "pygments_lexer": "ipython3",
   "version": "3.12.4"
  }
 },
 "nbformat": 4,
 "nbformat_minor": 2
}
